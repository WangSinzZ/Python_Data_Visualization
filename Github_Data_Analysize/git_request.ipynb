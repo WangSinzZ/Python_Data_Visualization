{
 "cells": [
  {
   "cell_type": "code",
   "execution_count": 121,
   "metadata": {},
   "outputs": [
    {
     "name": "stdout",
     "output_type": "stream",
     "text": [
      "Status code : 200\n",
      "dict_keys(['total_count', 'incomplete_results', 'items'])\n"
     ]
    }
   ],
   "source": [
    "import requests as req\n",
    "import pandas as pd\n",
    "import json\n",
    "\n",
    "from plotly.graph_objs import Bar\n",
    "from plotly import offline\n",
    "\n",
    "url = \"https://api.github.com/search/repositories?q=language:python&sort=stars\"\n",
    "\n",
    "headers = { 'Accpet' : 'application/vnd.github.v3+json' }\n",
    "\n",
    "r = req.get(url, headers = headers)\n",
    "print(f\"Status code : { r.status_code }\")\n",
    "\n",
    "response_dict = r.json()\n",
    "\n",
    "print(response_dict.keys())"
   ]
  },
  {
   "cell_type": "code",
   "execution_count": 128,
   "metadata": {},
   "outputs": [
    {
     "data": {
      "text/plain": [
       "'python_repos.html'"
      ]
     },
     "execution_count": 128,
     "metadata": {},
     "output_type": "execute_result"
    }
   ],
   "source": [
    "response_dicts = response_dict['items']\n",
    "# print(response_dicts)\n",
    "data = pd.DataFrame(response_dicts)\n",
    "owners = data['owner']\n",
    "\n",
    "login = []\n",
    "labels = []\n",
    "for owner in owners:\n",
    "  login.append(owner['login'])\n",
    "# print(data)\n",
    "\n",
    "repo_name = data['name']\n",
    "repo_stars = data['stargazers_count']\n",
    "repo_html_url = data['html_url']\n",
    "description = data['description']\n",
    "\n",
    "repo_links = \"<a href=\\\"\"+ repo_html_url +\"\\\">\" + repo_name  +\"</a>\"\n",
    "\n",
    "\n",
    "data = [{\n",
    "  'type' : 'bar',\n",
    "  'x' : repo_links,\n",
    "  'y' : repo_stars,\n",
    "  'hovertext' : login,\n",
    "  'marker' : {\n",
    "    'color' : 'rgb(60, 100, 150)',\n",
    "    'line' : {\n",
    "      'width' : 1.5, \n",
    "      'color' : 'rgb(25, 25, 25)'\n",
    "    }\n",
    "  },\n",
    "  'opacity' : 0.6\n",
    "}]\n",
    "\n",
    "my_layout = {\n",
    "  'title' : 'GitHub上最受欢迎的 Python 项目',\n",
    "  'titlefont' : {\n",
    "    'size' : 28\n",
    "  },\n",
    "  'xaxis' : { \n",
    "    'title' : 'Repository',\n",
    "    'titlefont' : {\n",
    "      'size' : 24\n",
    "    },\n",
    "    'tickfont' : {\n",
    "      'size' : 14\n",
    "    }\n",
    "  },\n",
    "  'yaxis' : { \n",
    "    'title' : 'Stars',\n",
    "    'titlefont' : {\n",
    "      'size' : 24\n",
    "    },\n",
    "    'tickfont' : {\n",
    "      'size' : 14\n",
    "    } \n",
    "  },\n",
    "}\n",
    "\n",
    "fig = { 'data' : data, 'layout' : my_layout }\n",
    "offline.plot(fig, filename = 'python_repos.html')\n",
    "\n"
   ]
  },
  {
   "cell_type": "code",
   "execution_count": null,
   "metadata": {},
   "outputs": [],
   "source": []
  },
  {
   "cell_type": "markdown",
   "metadata": {},
   "source": []
  }
 ],
 "metadata": {
  "interpreter": {
   "hash": "5d47d362506c37d7ca79a5211a29c5b8f155b15c49ff4c1f05fd312ab50e82f6"
  },
  "kernelspec": {
   "display_name": "Python 3.7.9 64-bit",
   "language": "python",
   "name": "python3"
  },
  "language_info": {
   "codemirror_mode": {
    "name": "ipython",
    "version": 3
   },
   "file_extension": ".py",
   "mimetype": "text/x-python",
   "name": "python",
   "nbconvert_exporter": "python",
   "pygments_lexer": "ipython3",
   "version": "3.7.9"
  },
  "orig_nbformat": 4
 },
 "nbformat": 4,
 "nbformat_minor": 2
}
