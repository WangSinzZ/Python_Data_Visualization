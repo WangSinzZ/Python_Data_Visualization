{
 "cells": [
  {
   "cell_type": "code",
   "execution_count": null,
   "metadata": {},
   "outputs": [],
   "source": [
    "from plotly.graph_objs import Bar, Layout\n",
    "from plotly import offline\n",
    "\n",
    "from dice import Dice\n",
    "\n",
    "dice_1 = Dice()\n",
    "dice_2 = Dice(10)\n",
    "\n",
    "results = []\n",
    "for roll_num in range(50_000):\n",
    "  result = dice_1.roll() + dice_2.roll()\n",
    "  results.append(result)\n",
    "\n",
    "print(results)"
   ]
  },
  {
   "cell_type": "code",
   "execution_count": null,
   "metadata": {},
   "outputs": [],
   "source": [
    "frequencies = []\n",
    "\n",
    "for value in range(1, dice_1.num_sides + dice_2.num_sides + 1):\n",
    "  frequency = results.count(value)\n",
    "  frequencies.append(frequency)\n",
    "\n",
    "print(frequencies)"
   ]
  },
  {
   "cell_type": "code",
   "execution_count": 13,
   "metadata": {},
   "outputs": [
    {
     "data": {
      "text/plain": [
       "'D6_D10.html'"
      ]
     },
     "execution_count": 13,
     "metadata": {},
     "output_type": "execute_result"
    }
   ],
   "source": [
    "x_values = list(range(2, dice_1.num_sides + dice_2.num_sides + 1))\n",
    "data = [Bar(x=x_values, y=frequencies)]\n",
    "\n",
    "x_axis_config = { 'title' : '结果', 'dtick' : 1 }\n",
    "y_axis_config = { 'title' : '结果的频数' }\n",
    "\n",
    "my_layout = Layout(title='同时 D6 和 D10 50000 次的结果', xaxis=x_axis_config, yaxis=y_axis_config)\n",
    "offline.plot({ 'data' : data, 'layout' : my_layout}, filename='D6_D10.html')\n"
   ]
  }
 ],
 "metadata": {
  "interpreter": {
   "hash": "5d47d362506c37d7ca79a5211a29c5b8f155b15c49ff4c1f05fd312ab50e82f6"
  },
  "kernelspec": {
   "display_name": "Python 3.7.9 64-bit",
   "language": "python",
   "name": "python3"
  },
  "language_info": {
   "codemirror_mode": {
    "name": "ipython",
    "version": 3
   },
   "file_extension": ".py",
   "mimetype": "text/x-python",
   "name": "python",
   "nbconvert_exporter": "python",
   "pygments_lexer": "ipython3",
   "version": "3.7.9"
  },
  "orig_nbformat": 4
 },
 "nbformat": 4,
 "nbformat_minor": 2
}
